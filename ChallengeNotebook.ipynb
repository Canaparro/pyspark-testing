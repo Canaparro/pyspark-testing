{
 "cells": [
  {
   "cell_type": "code",
   "execution_count": 1,
   "id": "b1574aad-87a8-4092-bc44-57d91aea656a",
   "metadata": {
    "tags": []
   },
   "outputs": [],
   "source": [
    "from pyspark.sql import SparkSession\n",
    "session = SparkSession.builder.appName('practice').getOrCreate()"
   ]
  },
  {
   "cell_type": "code",
   "execution_count": 2,
   "id": "2cade5c7-5918-4173-aa6e-c12598e1754d",
   "metadata": {
    "tags": []
   },
   "outputs": [],
   "source": [
    "challenges = session.read.csv('challenges.csv', header=True, inferSchema=True)"
   ]
  },
  {
   "cell_type": "code",
   "execution_count": 3,
   "id": "baf776ce-f858-4088-aaba-6a335307dcdd",
   "metadata": {
    "tags": []
   },
   "outputs": [
    {
     "name": "stdout",
     "output_type": "stream",
     "text": [
      "+----+--------+----+------+------+\n",
      "|gcid|progress|goal|  type|region|\n",
      "+----+--------+----+------+------+\n",
      "|   1|      35|  80|weekly|    de|\n",
      "|   2|      70|  90| daily|    gb|\n",
      "|   3|      55|  45| daily|    gb|\n",
      "|   3|      24|  32|weekly|    gb|\n",
      "|   3|      15|  42| daily|    gb|\n",
      "|   4|      35|  24| daily|    de|\n",
      "|   5|      20|  20| daily|    de|\n",
      "|   5|      45|  30|weekly|    de|\n",
      "|   6|      65|  70| daily|    de|\n",
      "|   6|      45|  70|weekly|    de|\n",
      "|null|    null|null|  null|  null|\n",
      "+----+--------+----+------+------+\n",
      "\n"
     ]
    }
   ],
   "source": [
    "challenges.show()"
   ]
  },
  {
   "cell_type": "code",
   "execution_count": 4,
   "id": "a503dfea-41b0-4f79-98c0-ba01f69893bb",
   "metadata": {
    "tags": []
   },
   "outputs": [
    {
     "name": "stdout",
     "output_type": "stream",
     "text": [
      "+----+--------+----+------+------+\n",
      "|gcid|progress|goal|  type|region|\n",
      "+----+--------+----+------+------+\n",
      "|   1|      35|  80|weekly|    de|\n",
      "|   2|      70|  90| daily|    gb|\n",
      "|   3|      55|  45| daily|    gb|\n",
      "|   3|      24|  32|weekly|    gb|\n",
      "|   3|      15|  42| daily|    gb|\n",
      "|   4|      35|  24| daily|    de|\n",
      "|   5|      20|  20| daily|    de|\n",
      "|   5|      45|  30|weekly|    de|\n",
      "|   6|      65|  70| daily|    de|\n",
      "|   6|      45|  70|weekly|    de|\n",
      "+----+--------+----+------+------+\n",
      "\n"
     ]
    }
   ],
   "source": [
    "challenges.na.drop(thresh=1).show()"
   ]
  },
  {
   "cell_type": "code",
   "execution_count": null,
   "id": "ffe3ce28-cacc-4060-b33c-619bd132d1a9",
   "metadata": {
    "tags": []
   },
   "outputs": [],
   "source": [
    "## group by gcid and sum\n",
    "test = challenges.select('gcid','progress')\n",
    "def printoso(row):\n",
    "    print('gcid:', row.gcid, row.progress)\n",
    "test.foreach(printoso)\n"
   ]
  },
  {
   "cell_type": "code",
   "execution_count": 10,
   "id": "26a4e25e-1cb3-4484-915d-1f924c4823c0",
   "metadata": {
    "tags": []
   },
   "outputs": [
    {
     "name": "stdout",
     "output_type": "stream",
     "text": [
      "+----+---------+------------------+\n",
      "|gcid|avg(gcid)|     avg(progress)|\n",
      "+----+---------+------------------+\n",
      "|   1|      1.0|              35.0|\n",
      "|   6|      6.0|              55.0|\n",
      "|   3|      3.0|31.333333333333332|\n",
      "|   5|      5.0|              32.5|\n",
      "|   4|      4.0|              35.0|\n",
      "|   2|      2.0|              70.0|\n",
      "+----+---------+------------------+\n",
      "\n"
     ]
    }
   ],
   "source": [
    "## group by gcid and get average progress\n",
    "challenges.select('gcid','progress').groupBy(challenges['gcid']).avg().show()"
   ]
  },
  {
   "cell_type": "code",
   "execution_count": 35,
   "id": "4ce2bc2b-42f8-4e45-90f1-892f768f7a77",
   "metadata": {
    "tags": []
   },
   "outputs": [
    {
     "name": "stdout",
     "output_type": "stream",
     "text": [
      "+------+------------------+\n",
      "|region|     avg(progress)|\n",
      "+------+------------------+\n",
      "|    gb|              41.0|\n",
      "|    de|40.833333333333336|\n",
      "+------+------------------+\n",
      "\n"
     ]
    }
   ],
   "source": [
    "## group by region and get average progress\n",
    "challenges.select('region','type', 'progress').groupBy(challenges['region']).avg().show()"
   ]
  },
  {
   "cell_type": "code",
   "execution_count": 34,
   "id": "4dfcd6ee-805b-4e84-84b7-87eeb6b26b9a",
   "metadata": {
    "tags": []
   },
   "outputs": [
    {
     "name": "stdout",
     "output_type": "stream",
     "text": [
      "+------+------+------------------+\n",
      "|region|  type|     avg(progress)|\n",
      "+------+------+------------------+\n",
      "|    gb|weekly|              24.0|\n",
      "|    de|weekly|41.666666666666664|\n",
      "|    de| daily|              40.0|\n",
      "|    gb| daily|46.666666666666664|\n",
      "+------+------+------------------+\n",
      "\n"
     ]
    }
   ],
   "source": [
    "## group by region and type and get average progress\n",
    "challenges.select('region','type', 'progress').groupBy(challenges['region'], challenges['type']).avg().show()"
   ]
  },
  {
   "cell_type": "code",
   "execution_count": 37,
   "id": "72c62f73-7389-4db5-b9a8-40546a03a81a",
   "metadata": {
    "tags": []
   },
   "outputs": [
    {
     "name": "stdout",
     "output_type": "stream",
     "text": [
      "+---------+-------------+---------+\n",
      "|avg(gcid)|avg(progress)|avg(goal)|\n",
      "+---------+-------------+---------+\n",
      "|      3.8|         40.9|     50.3|\n",
      "+---------+-------------+---------+\n",
      "\n"
     ]
    }
   ],
   "source": [
    "## Group by on nothing to access aggregation function on the whole dataframe\n",
    "challenges.groupBy().avg().show()"
   ]
  },
  {
   "cell_type": "code",
   "execution_count": null,
   "id": "0698d911-fa92-4703-b338-16ac8a003c67",
   "metadata": {},
   "outputs": [],
   "source": []
  }
 ],
 "metadata": {
  "kernelspec": {
   "display_name": "Python 3 (ipykernel)",
   "language": "python",
   "name": "python3"
  },
  "language_info": {
   "codemirror_mode": {
    "name": "ipython",
    "version": 3
   },
   "file_extension": ".py",
   "mimetype": "text/x-python",
   "name": "python",
   "nbconvert_exporter": "python",
   "pygments_lexer": "ipython3",
   "version": "3.10.9"
  }
 },
 "nbformat": 4,
 "nbformat_minor": 5
}
